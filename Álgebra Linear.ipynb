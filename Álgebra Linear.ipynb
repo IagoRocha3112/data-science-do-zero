{
 "cells": [
  {
   "cell_type": "markdown",
   "metadata": {},
   "source": [
    "# Capítulo 4 - Álgebra Linear\n",
    "\n",
    "> \"Existe algo mais inútil ou menos útil que Álgebra?\" - Billy Connolly"
   ]
  },
  {
   "cell_type": "markdown",
   "metadata": {},
   "source": [
    "## Vetores\n",
    "\n",
    "A abordagem inicial mais simples é representar vetores como listas de números. Uma lista de de três números corresponde a um vetor em um espaço tridimensional, e vice-versa:"
   ]
  },
  {
   "cell_type": "code",
   "execution_count": 1,
   "metadata": {},
   "outputs": [],
   "source": [
    "height_weight_age = [70, # polegadas,\n",
    "                    170, # quilos,\n",
    "                    40]  # anos\n",
    "grades = [95,# teste1\n",
    "         80, # teste2\n",
    "         75, # teste3\n",
    "         62] # teste4"
   ]
  },
  {
   "cell_type": "code",
   "execution_count": null,
   "metadata": {},
   "outputs": [],
   "source": []
  }
 ],
 "metadata": {
  "kernelspec": {
   "display_name": "Python 3",
   "language": "python",
   "name": "python3"
  },
  "language_info": {
   "codemirror_mode": {
    "name": "ipython",
    "version": 3
   },
   "file_extension": ".py",
   "mimetype": "text/x-python",
   "name": "python",
   "nbconvert_exporter": "python",
   "pygments_lexer": "ipython3",
   "version": "3.7.4"
  }
 },
 "nbformat": 4,
 "nbformat_minor": 2
}
